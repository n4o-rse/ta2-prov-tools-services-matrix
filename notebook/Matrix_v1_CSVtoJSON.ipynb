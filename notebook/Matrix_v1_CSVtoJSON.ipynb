{
 "cells": [
  {
   "cell_type": "markdown",
   "id": "94088b43",
   "metadata": {},
   "source": [
    "# 🐍 CSV to JSON Konverter für Matrix_v1"
   ]
  },
  {
   "cell_type": "code",
   "execution_count": null,
   "id": "6f909646",
   "metadata": {},
   "outputs": [],
   "source": [
    "import pandas as pd\n",
    "import json\n",
    "import os"
   ]
  },
  {
   "cell_type": "code",
   "execution_count": null,
   "id": "3e23ff2b",
   "metadata": {},
   "outputs": [],
   "source": [
    "script_dir = os.getcwd()\n",
    "csv_file = os.path.join(script_dir, \"Matrix_v1.csv\")\n",
    "\n",
    "# CSV einlesen mit \",\" als Trennzeichen und doppelten Anführungszeichen\n",
    "df = pd.read_csv(csv_file, sep=\",\", quotechar='\"', dtype=str).fillna(\"\")\n",
    "df.head()\n"
   ]
  },
  {
   "cell_type": "code",
   "execution_count": null,
   "id": "f84eb7e2",
   "metadata": {},
   "outputs": [],
   "source": [
    "# Definition: Textfelder\n",
    "text_fields = [\"ID\", \"Bezeichnung\", \"Beschreibung\", \"URL\"]\n",
    "\n",
    "# Mapping der Spalten zu OCMDP-IDs\n",
    "column_to_ocmdp = {\n",
    "    \"NsverfolgungsbedingtEntzogenesKulturgut\": \"A01ISV\",\n",
    "    \"KulturSammlungsgutKolonialeKontexte\": \"IP5W9R\",\n",
    "    \"KulturgutentziehungenSBZDDR\": \"D1ZG69\",\n",
    "    \"KriegsbedingtVerlagertesKulturgut\": \"IVETAX\",\n",
    "    \"SecretSacredObjects\": \"Z5V1LB\",\n",
    "    \"HumanRemains\": \"SZMZE4\",\n",
    "    \"NaturkundeNaturwissenschaft\": \"A0VF7A\",\n",
    "    \"NetzwerkeServices\": \"WXJBI5\",\n",
    "    \"DigitaleAnwendungen\": \"PSEBRV\",\n",
    "    \"Empfehlungen\": \"UOVWQQ\",\n",
    "    \"RechercheRessourcen\": \"UQBLZP\"\n",
    "}\n",
    "\n",
    "# OCMDP-URI-Präfix\n",
    "prefix = \"http://www.w3id.org/objectcore/terminology/\"\n",
    "\n",
    "# Gruppierung: Was ist Kategorie, was ist Typ\n",
    "category_keys = {\n",
    "    \"KulturSammlungsgutKolonialeKontexte\",\n",
    "    \"NsverfolgungsbedingtEntzogenesKulturgut\",\n",
    "    \"KulturgutentziehungenSBZDDR\",\n",
    "    \"KriegsbedingtVerlagertesKulturgut\",\n",
    "    \"HumanRemains\",\n",
    "    \"SecretSacredObjects\",\n",
    "    \"NaturkundeNaturwissenschaft\"\n",
    "}\n",
    "\n",
    "type_keys = {\n",
    "    \"NetzwerkeServices\",\n",
    "    \"DigitaleAnwendungen\",\n",
    "    \"Empfehlungen\",\n",
    "    \"RechercheRessourcen\"\n",
    "}\n",
    "\n",
    "# Alle Booleschen Felder: alle außer den Textfeldern\n",
    "bool_fields = [col for col in df.columns if col not in text_fields]\n"
   ]
  },
  {
   "cell_type": "code",
   "execution_count": null,
   "id": "65052cae",
   "metadata": {},
   "outputs": [],
   "source": [
    "# === JSON 1: Mit Boolean-Feldern ===\n",
    "records = []\n",
    "for i, (_, row) in enumerate(df.iterrows(), start=1):\n",
    "    obj = {\n",
    "        \"internalID\": i,\n",
    "        **{field: row[field] for field in text_fields},\n",
    "        **{field: row[field].strip().lower() == \"x\" for field in bool_fields}\n",
    "    }\n",
    "    records.append(obj)"
   ]
  },
  {
   "cell_type": "code",
   "execution_count": null,
   "id": "ce1b542a",
   "metadata": {},
   "outputs": [],
   "source": [
    "# === JSON 2: Mit category/type URIs ===\n",
    "extended_records = []\n",
    "for i, row in enumerate(df.itertuples(index=False), start=1):\n",
    "    base = {\n",
    "        \"internalID\": i,\n",
    "        **{field: getattr(row, field) for field in text_fields}\n",
    "    }\n",
    "\n",
    "    categories = []\n",
    "    types = []\n",
    "\n",
    "    for col, ocmdp_id in column_to_ocmdp.items():\n",
    "        val = getattr(row, col, \"\").strip().lower()\n",
    "        if val == \"x\":\n",
    "            uri = prefix + ocmdp_id\n",
    "            if col in category_keys:\n",
    "                categories.append(uri)\n",
    "            elif col in type_keys:\n",
    "                types.append(uri)\n",
    "\n",
    "    if categories:\n",
    "        base[\"category\"] = categories\n",
    "    if types:\n",
    "        base[\"type\"] = types\n",
    "\n",
    "    extended_records.append(base)"
   ]
  },
  {
   "cell_type": "code",
   "execution_count": null,
   "id": "7140b2c0",
   "metadata": {},
   "outputs": [],
   "source": [
    "# === Dateien schreiben ===\n",
    "base_name = os.path.splitext(csv_file)[0]\n",
    "\n",
    "with open(base_name + \".json\", \"w\", encoding=\"utf-8\") as f:\n",
    "    json.dump(records, f, indent=2, ensure_ascii=False)\n",
    "\n",
    "with open(base_name + \"_extended.json\", \"w\", encoding=\"utf-8\") as f:\n",
    "    json.dump(extended_records, f, indent=2, ensure_ascii=False)\n",
    "\n",
    "print(\"✅ JSON-Dateien erfolgreich erstellt:\")\n",
    "print(f\"- {base_name}.json (mit Booleans)\")\n",
    "print(f\"- {base_name}_extended.json (mit category/type URIs)\")\n"
   ]
  }
 ],
 "metadata": {
  "language_info": {
   "name": "python"
  }
 },
 "nbformat": 4,
 "nbformat_minor": 5
}
